{
  "nbformat": 4,
  "nbformat_minor": 0,
  "metadata": {
    "colab": {
      "provenance": [],
      "authorship_tag": "ABX9TyO2eZmu/QIuLRPopVJYjYFh",
      "include_colab_link": true
    },
    "kernelspec": {
      "name": "python3",
      "display_name": "Python 3"
    },
    "language_info": {
      "name": "python"
    }
  },
  "cells": [
    {
      "cell_type": "markdown",
      "metadata": {
        "id": "view-in-github",
        "colab_type": "text"
      },
      "source": [
        "<a href=\"https://colab.research.google.com/github/Farheen112004/Titanic-survivors-ml/blob/main/Copy_of_titanic.ipynb\" target=\"_parent\"><img src=\"https://colab.research.google.com/assets/colab-badge.svg\" alt=\"Open In Colab\"/></a>"
      ]
    },
    {
      "cell_type": "markdown",
      "source": [
        "# TITATIC SURVIVORS [MODEL]\n",
        "\n",
        "IMPORTS"
      ],
      "metadata": {
        "id": "7mj0B7euBLVW"
      }
    },
    {
      "cell_type": "code",
      "source": [
        "import numpy as np\n",
        "import pandas as pd\n",
        "import tensorflow as tf\n",
        "from sklearn.model_selection import train_test_split\n",
        "from sklearn.preprocessing import StandardScaler, OneHotEncoder\n",
        "from sklearn.compose import ColumnTransformer\n",
        "from sklearn.pipeline import Pipeline\n"
      ],
      "metadata": {
        "id": "WWYLK4V0BWrt"
      },
      "execution_count": null,
      "outputs": []
    },
    {
      "cell_type": "markdown",
      "source": [
        "# Load training and evaluation datasets\n",
        " Separate target labels (survived) from the features for both training and evaluation data\n",
        "\n"
      ],
      "metadata": {
        "id": "didovIhvBZpc"
      }
    },
    {
      "cell_type": "code",
      "source": [
        "# Load dataset.\n",
        "dftrain = pd.read_csv('https://storage.googleapis.com/tf-datasets/titanic/train.csv') # training data\n",
        "dfeval = pd.read_csv('https://storage.googleapis.com/tf-datasets/titanic/eval.csv') # testing data\n",
        "y_train = dftrain.pop('survived')\n",
        "y_eval = dfeval.pop('survived')"
      ],
      "metadata": {
        "id": "RCpObp3mBkut"
      },
      "execution_count": null,
      "outputs": []
    },
    {
      "cell_type": "markdown",
      "source": [
        "# Define columns that need to be processed as categorical or numerical features"
      ],
      "metadata": {
        "id": "9l53J4RnCuzJ"
      }
    },
    {
      "cell_type": "code",
      "source": [
        "CATEGORICAL_COLUMNS = ['sex', 'n_siblings_spouses', 'parch', 'class', 'deck', 'embark_town', 'alone']\n",
        "NUMERIC_COLUMNS = ['age', 'fare']\n"
      ],
      "metadata": {
        "id": "X8g7MewiC0A1"
      },
      "execution_count": null,
      "outputs": []
    },
    {
      "cell_type": "markdown",
      "source": [
        "# Set up transformers for preprocessing numerical and categorical data"
      ],
      "metadata": {
        "id": "muglcK7cC-V3"
      }
    },
    {
      "cell_type": "code",
      "source": [
        "numeric_transformer = StandardScaler()  # Standardize numerical features to mean=0, variance=1\n",
        "categorical_transformer = OneHotEncoder(handle_unknown='ignore')  # Convert categorical data to one-hot encoding\n"
      ],
      "metadata": {
        "id": "BDgZiCx6DAyW"
      },
      "execution_count": null,
      "outputs": []
    },
    {
      "cell_type": "markdown",
      "source": [
        "# Use ColumnTransformer to apply the appropriate transformations to each column type"
      ],
      "metadata": {
        "id": "qP1Am-MvDFcy"
      }
    },
    {
      "cell_type": "code",
      "source": [
        "preprocessor = ColumnTransformer(\n",
        "    transformers=[\n",
        "        ('num', numeric_transformer, NUMERIC_COLUMNS),  # Apply StandardScaler to numerical columns\n",
        "        ('cat', categorical_transformer, CATEGORICAL_COLUMNS)  # Apply OneHotEncoder to categorical columns\n",
        "    ])"
      ],
      "metadata": {
        "id": "w6glQILHDJ-7"
      },
      "execution_count": null,
      "outputs": []
    },
    {
      "cell_type": "markdown",
      "source": [
        "# Apply preprocessing transformations to training and evaluation data"
      ],
      "metadata": {
        "id": "IIPki3kMDQe4"
      }
    },
    {
      "cell_type": "code",
      "source": [
        "X_train = preprocessor.fit_transform(dftrain)  # Fit and transform the training data\n",
        "X_eval = preprocessor.transform(dfeval)  # Transform the evaluation data\n"
      ],
      "metadata": {
        "id": "sGxbO4bEDWMZ"
      },
      "execution_count": null,
      "outputs": []
    },
    {
      "cell_type": "markdown",
      "source": [
        "# Build a simple neural network model using Keras"
      ],
      "metadata": {
        "id": "9V-aXwYADaR_"
      }
    },
    {
      "cell_type": "code",
      "source": [
        "model = tf.keras.Sequential([\n",
        "    tf.keras.layers.Input(shape=(X_train.shape[1],)),  # Define input layer with appropriate input shape\n",
        "    tf.keras.layers.Dense(1, activation='sigmoid')  # Output layer for binary classification with sigmoid activation\n",
        "])"
      ],
      "metadata": {
        "id": "6yh_D_P7DeTQ"
      },
      "execution_count": null,
      "outputs": []
    },
    {
      "cell_type": "markdown",
      "source": [
        "# Compile the model, specifying optimizer, loss function, and metrics"
      ],
      "metadata": {
        "id": "bpURM2LDDkeU"
      }
    },
    {
      "cell_type": "code",
      "source": [
        "model.compile(optimizer='adam',\n",
        "              loss='binary_crossentropy',\n",
        "              metrics=['accuracy'])\n"
      ],
      "metadata": {
        "id": "BMxC6rbWDp8t"
      },
      "execution_count": null,
      "outputs": []
    },
    {
      "cell_type": "markdown",
      "source": [
        "# Train the model on the preprocessed training data"
      ],
      "metadata": {
        "id": "1FOysQ8MDuvj"
      }
    },
    {
      "cell_type": "code",
      "source": [
        "model.fit(X_train, y_train, epochs=10, batch_size=32)"
      ],
      "metadata": {
        "id": "-5QdgskEDy33",
        "colab": {
          "base_uri": "https://localhost:8080/"
        },
        "outputId": "75dd2aa8-9573-4c46-8fba-87e45ec79421"
      },
      "execution_count": null,
      "outputs": [
        {
          "output_type": "stream",
          "name": "stdout",
          "text": [
            "Epoch 1/10\n",
            "\u001b[1m20/20\u001b[0m \u001b[32m━━━━━━━━━━━━━━━━━━━━\u001b[0m\u001b[37m\u001b[0m \u001b[1m1s\u001b[0m 3ms/step - accuracy: 0.4365 - loss: 0.7630\n",
            "Epoch 2/10\n",
            "\u001b[1m20/20\u001b[0m \u001b[32m━━━━━━━━━━━━━━━━━━━━\u001b[0m\u001b[37m\u001b[0m \u001b[1m0s\u001b[0m 4ms/step - accuracy: 0.5438 - loss: 0.7394\n",
            "Epoch 3/10\n",
            "\u001b[1m20/20\u001b[0m \u001b[32m━━━━━━━━━━━━━━━━━━━━\u001b[0m\u001b[37m\u001b[0m \u001b[1m0s\u001b[0m 2ms/step - accuracy: 0.5654 - loss: 0.7157  \n",
            "Epoch 4/10\n",
            "\u001b[1m20/20\u001b[0m \u001b[32m━━━━━━━━━━━━━━━━━━━━\u001b[0m\u001b[37m\u001b[0m \u001b[1m0s\u001b[0m 2ms/step - accuracy: 0.5653 - loss: 0.7206 \n",
            "Epoch 5/10\n",
            "\u001b[1m20/20\u001b[0m \u001b[32m━━━━━━━━━━━━━━━━━━━━\u001b[0m\u001b[37m\u001b[0m \u001b[1m0s\u001b[0m 2ms/step - accuracy: 0.6059 - loss: 0.6838 \n",
            "Epoch 6/10\n",
            "\u001b[1m20/20\u001b[0m \u001b[32m━━━━━━━━━━━━━━━━━━━━\u001b[0m\u001b[37m\u001b[0m \u001b[1m0s\u001b[0m 2ms/step - accuracy: 0.6060 - loss: 0.6824  \n",
            "Epoch 7/10\n",
            "\u001b[1m20/20\u001b[0m \u001b[32m━━━━━━━━━━━━━━━━━━━━\u001b[0m\u001b[37m\u001b[0m \u001b[1m0s\u001b[0m 2ms/step - accuracy: 0.6009 - loss: 0.6750  \n",
            "Epoch 8/10\n",
            "\u001b[1m20/20\u001b[0m \u001b[32m━━━━━━━━━━━━━━━━━━━━\u001b[0m\u001b[37m\u001b[0m \u001b[1m0s\u001b[0m 2ms/step - accuracy: 0.6208 - loss: 0.6682 \n",
            "Epoch 9/10\n",
            "\u001b[1m20/20\u001b[0m \u001b[32m━━━━━━━━━━━━━━━━━━━━\u001b[0m\u001b[37m\u001b[0m \u001b[1m0s\u001b[0m 2ms/step - accuracy: 0.6255 - loss: 0.6567 \n",
            "Epoch 10/10\n",
            "\u001b[1m20/20\u001b[0m \u001b[32m━━━━━━━━━━━━━━━━━━━━\u001b[0m\u001b[37m\u001b[0m \u001b[1m0s\u001b[0m 2ms/step - accuracy: 0.6380 - loss: 0.6544 \n"
          ]
        },
        {
          "output_type": "execute_result",
          "data": {
            "text/plain": [
              "<keras.src.callbacks.history.History at 0x7c43ec666ef0>"
            ]
          },
          "metadata": {},
          "execution_count": 11
        }
      ]
    },
    {
      "cell_type": "markdown",
      "source": [
        "# Evaluate the model on the preprocessed evaluation data and print test accuracy"
      ],
      "metadata": {
        "id": "LdOS7sVzD3kS"
      }
    },
    {
      "cell_type": "code",
      "source": [
        "eval_result = model.evaluate(X_eval, y_eval)\n",
        "print(f\"Test accuracy: {eval_result[1]:.4f}\")"
      ],
      "metadata": {
        "id": "pIXhudhND7R0",
        "colab": {
          "base_uri": "https://localhost:8080/"
        },
        "outputId": "66eb4b84-4fa4-4d79-d9bc-764af99bf1d5"
      },
      "execution_count": null,
      "outputs": [
        {
          "output_type": "stream",
          "name": "stdout",
          "text": [
            "\u001b[1m9/9\u001b[0m \u001b[32m━━━━━━━━━━━━━━━━━━━━\u001b[0m\u001b[37m\u001b[0m \u001b[1m0s\u001b[0m 3ms/step - accuracy: 0.6050 - loss: 0.6874  \n",
            "Test accuracy: 0.6439\n"
          ]
        }
      ]
    }
  ]
}